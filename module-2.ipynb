{
 "cells": [
  {
   "cell_type": "code",
   "execution_count": null,
   "id": "48560b87",
   "metadata": {},
   "outputs": [],
   "source": [
    "#Write a Python program to check if a number is positive, negative or zero.\n",
    "\n",
    "num=int(input(\"Enter Number:\"))\n",
    "if(num<0):\n",
    "    print(\"given number \",num,\" is negative:\")\n",
    "elif(num>0):\n",
    "    print(\"given number\",num,\" is possitive :\")\n",
    "elif(num==0):\n",
    "    print(\"given number\",num,\" is zero:\")\n",
    "else:\n",
    "    print(\"invalid input\")"
   ]
  },
  {
   "cell_type": "code",
   "execution_count": null,
   "id": "6d037b28",
   "metadata": {},
   "outputs": [],
   "source": [
    "#Write a Python program to get the Factorial number of given number\n",
    "\n",
    "\n",
    "num = int(input(\"Enter a number: \"))\n",
    "factorial = 1\n",
    "if num < 0:\n",
    "    print(\"Sorry, factorial does not exist for negative numbers\")\n",
    "elif num == 0:\n",
    "    print(\"The factorial of 0 is 1\")\n",
    "else:\n",
    "    \n",
    "    for i in range(1,num + 1):\n",
    "        \n",
    "        factorial = factorial*i\n",
    "    print(\"The factorial of\",num,\"is\",factorial)   \n",
    "\n"
   ]
  },
  {
   "cell_type": "code",
   "execution_count": null,
   "id": "18b61c63",
   "metadata": {},
   "outputs": [],
   "source": [
    "#Write a Python program to get the Fibonacci series of given range\n",
    "\n",
    "num=int(input(\"Enter Number:\"))\n",
    "n1=0\n",
    "n2=1\n",
    "print(\"Fibonacci series:\",n1,n2,end=\" \")#0 1 1 2 3 \n",
    "for i in range(2,num):\n",
    "    n3=n1+n2\n",
    "    n1=n2\n",
    "    n2=n3\n",
    "    print(n3,end=\" \")\n",
    "print()\n"
   ]
  },
  {
   "cell_type": "code",
   "execution_count": null,
   "id": "340048cb",
   "metadata": {},
   "outputs": [],
   "source": [
    "#Write python program that swap two number with temp variable and without temp variable\n",
    "#without temp variable\n",
    "num1=int(input(\"Enter number1:\"))\n",
    "num2=int(input(\"Enter number2:\"))\n",
    "print(\"your old value of num1 is {0} and num2 is {1}\".format(num1,num2))\n",
    "\n",
    "num1=num1+num2\n",
    "num2=num1-num2\n",
    "num1=num1-num2\n",
    "\n",
    "print(\"your new value of num1 is {0} and num2 is {1}\".format(num1,num2))\n",
    "\n",
    "\n",
    "#with temp value\n",
    "num1=int(input(\"Enter number1:\"))\n",
    "num2=int(input(\"Enter number2:\"))\n",
    "print(\"your old value of num1 is {0} and num2 is {1}\".format(num1,num2))\n",
    "\n",
    "num1=num2\n",
    "num2=num1\n",
    "\n",
    "print(\"your new value of num1 is {0} and num2 is {1}\".format(num1,num2))\n",
    "\n"
   ]
  },
  {
   "cell_type": "code",
   "execution_count": null,
   "id": "8aef0352",
   "metadata": {},
   "outputs": [],
   "source": [
    "# Write a Python program to find whether a given number is even or odd, print out an appropriate message to the user. \n",
    "\n",
    "num1=int(input(\"Enter Number:\"))\n",
    "if(num1%2==0):\n",
    "    print(\"your number\",num1,\"is even number:\")\n",
    "else:\n",
    "    print(\"your Number \",num1,\"is odd number:\")\n"
   ]
  },
  {
   "cell_type": "code",
   "execution_count": 170,
   "id": "092a1bdd",
   "metadata": {},
   "outputs": [
    {
     "name": "stdout",
     "output_type": "stream",
     "text": [
      "Enter latter:a\n",
      "vowel\n"
     ]
    }
   ],
   "source": [
    "#Write a Python program to test whether a passed letter is a vowel or not. \n",
    "i=input(\"Enter latter:\")\n",
    "\n",
    "if i.lower() in ('a','e','i','o','u'):\n",
    "    print(\"vowel\")\n",
    "elif i.upper() in ('A','E','I','O','U'):\n",
    "    print(\"vowel\")\n",
    "else:\n",
    "    print(\"consonent\")"
   ]
  },
  {
   "cell_type": "code",
   "execution_count": 48,
   "id": "ae4e3ce9",
   "metadata": {},
   "outputs": [
    {
     "name": "stdout",
     "output_type": "stream",
     "text": [
      "enter number1:4\n",
      "enter number2:5\n",
      "enter number3:8\n",
      "17\n"
     ]
    }
   ],
   "source": [
    " #Write a Python program to sum of three given integers. However, if two values are equal sum will be zero. \n",
    "a=int(input(\"enter number1:\"))\n",
    "b=int(input(\"enter number2:\"))\n",
    "c=int(input(\"enter number3:\"))\n",
    "sum=0\n",
    "if a==b or a==c or c==b:\n",
    "    sum=0\n",
    "    print(sum)\n",
    "else:\n",
    "    sum=a+b+c\n",
    "    print(sum)"
   ]
  },
  {
   "cell_type": "code",
   "execution_count": 55,
   "id": "9d7b2a78",
   "metadata": {},
   "outputs": [
    {
     "name": "stdout",
     "output_type": "stream",
     "text": [
      "enter number1:1\n",
      "enter number2:4\n",
      "True\n"
     ]
    }
   ],
   "source": [
    "# Write a Python program that will return true if the two given integer values are equal or their sum or difference is 5.\n",
    "a=int(input(\"enter number1:\"))\n",
    "b=int(input(\"enter number2:\"))\n",
    "if (a==b) or (a+b==5) or (a-b==5):\n",
    "    print(\"True\")\n",
    "else:\n",
    "    print(\"False\")"
   ]
  },
  {
   "cell_type": "code",
   "execution_count": 62,
   "id": "c3805725",
   "metadata": {},
   "outputs": [
    {
     "name": "stdout",
     "output_type": "stream",
     "text": [
      "Enter number:3\n",
      "6\n"
     ]
    }
   ],
   "source": [
    "#Write a python program to sum of the first n positive integers\n",
    "num=int(input(\"Enter number:\"))\n",
    "sum=0\n",
    "for i in range(1,num+1):\n",
    "    sum=sum+i\n",
    "print(sum)"
   ]
  },
  {
   "cell_type": "code",
   "execution_count": 63,
   "id": "bce3bd90",
   "metadata": {},
   "outputs": [
    {
     "name": "stdout",
     "output_type": "stream",
     "text": [
      "16\n"
     ]
    }
   ],
   "source": [
    " #Write a Python program to calculate the length of a string\n",
    "    \n",
    "str1=\"haresh nandaniya\"\n",
    "print(len(str1))"
   ]
  },
  {
   "cell_type": "code",
   "execution_count": 69,
   "id": "e306f870",
   "metadata": {},
   "outputs": [
    {
     "name": "stdout",
     "output_type": "stream",
     "text": [
      "{'h': 2, 'a': 4, 'r': 1, 'e': 1, 's': 1, ' ': 1, 'n': 3, 'd': 1, 'i': 1, 'y': 1}\n"
     ]
    }
   ],
   "source": [
    " #Write a Python program to count the number of characters (character frequency) in a string \n",
    "\n",
    "str1=\"haresh nandaniya\"\n",
    "dict1={}\n",
    "\n",
    "for i in str1:\n",
    "    keys=dict1.keys()\n",
    "    if i in keys:\n",
    "        dict1[i]+=1\n",
    "    else:\n",
    "        dict1[i]=1\n",
    "print(dict1)"
   ]
  },
  {
   "cell_type": "code",
   "execution_count": 77,
   "id": "a8033a72",
   "metadata": {},
   "outputs": [
    {
     "name": "stdout",
     "output_type": "stream",
     "text": [
      "2\n",
      "2\n",
      "1\n",
      "{'t': 5, 'h': 3, 'i': 3, 's': 7, ' ': 9, 'e': 1, 'c': 2, 'l': 2, 'a': 3, 'b': 2, 'u': 1, 'n': 1, 'o': 2, 'y': 1}\n"
     ]
    }
   ],
   "source": [
    "# Write a Python program to count occurrences of a substring in a string. \n",
    "str1=\"this is the class but this not a boy class\"\n",
    "print(str1.count('class'))\n",
    "print(str1.count(\"this\"))\n",
    "print(str1.count(\"but\"))\n",
    "dict1={}\n",
    "\n",
    "for i in str1:\n",
    "    keys=dict1.keys()\n",
    "    if i in keys:\n",
    "        dict1[i]+=1\n",
    "    else:\n",
    "        dict1[i]=1\n",
    "print(dict1)\n"
   ]
  },
  {
   "cell_type": "code",
   "execution_count": 80,
   "id": "bcbb7904",
   "metadata": {},
   "outputs": [
    {
     "name": "stdout",
     "output_type": "stream",
     "text": [
      "count each word : {'this': 2, 'is': 1, 'the': 1, 'class': 2, 'but': 1, 'not': 1, 'a': 1, 'boy': 1}\n",
      "\n",
      "count character: {'t': 5, 'h': 3, 'i': 3, 's': 7, ' ': 9, 'e': 1, 'c': 2, 'l': 2, 'a': 3, 'b': 2, 'u': 1, 'n': 1, 'o': 2, 'y': 1}\n"
     ]
    }
   ],
   "source": [
    " #Write a Python program to count the occurrences of each word in a given sentence \n",
    "#count each word   \n",
    "str1=\"this is the class but this not a boy class\"\n",
    "counts=dict()\n",
    "words=str1.split()\n",
    "\n",
    "for i in words:\n",
    "    if i in counts:\n",
    "        counts[i]+=1\n",
    "    else:\n",
    "        counts[i]=1\n",
    "print(\"count each word :\",counts)\n",
    "print()\n",
    "\n",
    "#count charactr\n",
    "str1=\"this is the class but this not a boy class\"\n",
    "dict1={}\n",
    "for i in str1:\n",
    "    keys=dict1.keys()\n",
    "    if i in keys:\n",
    "        dict1[i]+=1\n",
    "    else:\n",
    "        dict1[i]=1\n",
    "print(\"count character:\",dict1)"
   ]
  },
  {
   "cell_type": "code",
   "execution_count": 82,
   "id": "d1635b31",
   "metadata": {},
   "outputs": [
    {
     "name": "stdout",
     "output_type": "stream",
     "text": [
      "['this', 'is', 'the', 'class', 'but', 'this', 'not', 'a', 'boy', 'class']\n"
     ]
    }
   ],
   "source": [
    "str1=\"this is the class but this not a boy class\"\n",
    "\n",
    "print(str1.split())"
   ]
  },
  {
   "cell_type": "code",
   "execution_count": 96,
   "id": "182dd4ee",
   "metadata": {},
   "outputs": [
    {
     "name": "stdout",
     "output_type": "stream",
     "text": [
      "wxcd abyz\n"
     ]
    }
   ],
   "source": [
    "#Write a Python program to get a single string from two given strings, separated by a space and \n",
    "#swap the first two characters of each string. \n",
    "str1=\"abcd\"\n",
    "str2=\"wxyz\"\n",
    "\n",
    "newstr1=str2[:2]+str1[2:]\n",
    "newstr2=str1[:2]+str2[2:]\n",
    "print(newstr1+' '+newstr2)"
   ]
  },
  {
   "cell_type": "code",
   "execution_count": 113,
   "id": "a9470951",
   "metadata": {},
   "outputs": [
    {
     "name": "stdout",
     "output_type": "stream",
     "text": [
      "Enter string:as\n",
      "as\n"
     ]
    }
   ],
   "source": [
    "''' Write a Python program to add 'ing' at the end of a given string (length should be at least 3). \n",
    "If the given string already ends with 'ing' then add 'ly' instead if the string length of \n",
    "the given string is less than 3, leave it unchanged. '''\n",
    "\n",
    "a=input(\"Enter string:\")\n",
    "length=len(a)\n",
    "if(length>=3):\n",
    "    if(a[-3:]=='ing'):\n",
    "        a+='ly'\n",
    "    else:\n",
    "        a+='ing'\n",
    "print(a)"
   ]
  },
  {
   "cell_type": "code",
   "execution_count": 135,
   "id": "a8f30a46",
   "metadata": {},
   "outputs": [
    {
     "name": "stdout",
     "output_type": "stream",
     "text": [
      "the lyrics is  good\n"
     ]
    }
   ],
   "source": [
    "'''Write a Python program to find the first appearance of the substring 'not' and 'poor' from a given string, \n",
    "     if 'not' follows the 'poor', replace the whole 'not'...'poor' substring  with 'good'. Return the resulting string'''\n",
    "str1=\"the lyrics is  not dshdskhhdshfndscnsnc cds cdsc dcds d poor\"\n",
    "snot=str1.find('not')\n",
    "spoor=str1.find('poor')\n",
    "\n",
    "if spoor>snot and snot>0 and spoor>0:\n",
    "    str1=str1.replace(str1[snot:(spoor+5)], 'good')\n",
    "    print(str1)\n",
    "else:\n",
    "    print(str1)"
   ]
  },
  {
   "cell_type": "code",
   "execution_count": 137,
   "id": "0d907343",
   "metadata": {},
   "outputs": [
    {
     "name": "stdout",
     "output_type": "stream",
     "text": [
      "['haresh', 1, 2, 3, 3, 2, 2, 2, 2, 2, 4, 5]\n"
     ]
    }
   ],
   "source": [
    "#Write a Python function that takes a list of words and returns the length of the longest one\n",
    "l1=['haresh',1,2,3,3,2,2,2,2,2,4,5]\n",
    "l2=[\"v\",3,42,3,4,2,\"ram\",4,2,'h']\n",
    "if(len(l1)>len(l2)):\n",
    "    print(l1)\n",
    "else:\n",
    "    print(l2)"
   ]
  },
  {
   "cell_type": "code",
   "execution_count": 144,
   "id": "82d7e2b7",
   "metadata": {},
   "outputs": [
    {
     "name": "stdout",
     "output_type": "stream",
     "text": [
      "Enter string:abcd\n",
      "dcba\n"
     ]
    }
   ],
   "source": [
    " #Write a Python function to reverses a string if its length is a multiple of 4.  \n",
    "    \n",
    "str1=input(\"Enter string:\")\n",
    "\n",
    "if(len(str1)%4==0):\n",
    "    print(str1[::-1])\n",
    "else:\n",
    "    print(str1)"
   ]
  },
  {
   "cell_type": "code",
   "execution_count": 149,
   "id": "db33838c",
   "metadata": {},
   "outputs": [
    {
     "name": "stdout",
     "output_type": "stream",
     "text": [
      "Enter string:nandaniya\n",
      "naya\n"
     ]
    }
   ],
   "source": [
    "''' Write a Python program to get a string made of the first 2 and the last 2 chars from a given a string. \n",
    "         If the string length is less than 2, return instead of the empty string'''\n",
    "str1=input(\"Enter string:\")\n",
    "\n",
    "if(len(str1)>=2):\n",
    "    str1=str1[0:2]+str1[-2:]\n",
    "    print(str1)\n",
    "else:\n",
    "    print('')"
   ]
  },
  {
   "cell_type": "code",
   "execution_count": 165,
   "id": "f42cebff",
   "metadata": {},
   "outputs": [
    {
     "name": "stdout",
     "output_type": "stream",
     "text": [
      "<class 'list'>\n",
      "13\n",
      "['h', 'a', 'r', 'e', 's', 'h', 'love', ' ', 'v', 'a', 'r', 's', 'h', 'a']\n",
      "['h', 'a', 'r', 'e', 's', 'h', 'love', ' ', 'v', 'a', 'r', 's', 'h', 'a']\n",
      "<class 'str'>\n"
     ]
    }
   ],
   "source": [
    "#Write a Python function to insert a string in the middle of a string\n",
    "str1='haresh varsha'\n",
    "word='love'\n",
    "list1=list(str1)\n",
    "print(type(list1))\n",
    "print(len(list1))\n",
    "list1.insert(6,'love')\n",
    "print(list1)\n",
    "str2=str(list1)\n",
    "print(str2)\n",
    "print(type(str2))"
   ]
  },
  {
   "cell_type": "code",
   "execution_count": 169,
   "id": "34455f97",
   "metadata": {},
   "outputs": [
    {
     "name": "stdout",
     "output_type": "stream",
     "text": [
      "<class 'str'>\n"
     ]
    }
   ],
   "source": [
    "str1=\"haresh\"\n",
    "list1=list(str1)\n",
    "str1=str(list1)\n",
    "print(type(str1))"
   ]
  },
  {
   "cell_type": "code",
   "execution_count": 150,
   "id": "239d2188",
   "metadata": {},
   "outputs": [
    {
     "data": {
      "text/plain": [
       "'ax'"
      ]
     },
     "execution_count": 150,
     "metadata": {},
     "output_type": "execute_result"
    }
   ],
   "source": [
    "'a'+'x'if'123'.isdigit()else'y'+'b'"
   ]
  },
  {
   "cell_type": "code",
   "execution_count": null,
   "id": "2d5f7250",
   "metadata": {},
   "outputs": [],
   "source": [
    "#what are attributes?\n",
    "'''attributes are a way to hold data or discribe a state for a class or an instance of a class'''"
   ]
  },
  {
   "cell_type": "code",
   "execution_count": null,
   "id": "d2da7fa3",
   "metadata": {},
   "outputs": [],
   "source": [
    "#armstong number\n",
    "num=int(input(\"enter number:\"))\n",
    "sum=0\n",
    "#cube of each digit\n",
    "cube=num\n",
    "while cube>0:\n",
    "    digit=cube % 10\n",
    "    sum += digit **3\n",
    "    cube//=10\n",
    "    \n",
    "#condition\n",
    "if num==sum:\n",
    "    print(num,\"is an armstrong number\")\n",
    "else:\n",
    "    print(num,\"is not an armstrong number\")"
   ]
  },
  {
   "cell_type": "code",
   "execution_count": null,
   "id": "22722c80",
   "metadata": {},
   "outputs": [],
   "source": []
  },
  {
   "cell_type": "code",
   "execution_count": null,
   "id": "d2bf4f46",
   "metadata": {},
   "outputs": [],
   "source": []
  },
  {
   "cell_type": "code",
   "execution_count": null,
   "id": "d0e94670",
   "metadata": {},
   "outputs": [],
   "source": []
  }
 ],
 "metadata": {
  "kernelspec": {
   "display_name": "Python 3 (ipykernel)",
   "language": "python",
   "name": "python3"
  },
  "language_info": {
   "codemirror_mode": {
    "name": "ipython",
    "version": 3
   },
   "file_extension": ".py",
   "mimetype": "text/x-python",
   "name": "python",
   "nbconvert_exporter": "python",
   "pygments_lexer": "ipython3",
   "version": "3.9.12"
  }
 },
 "nbformat": 4,
 "nbformat_minor": 5
}
