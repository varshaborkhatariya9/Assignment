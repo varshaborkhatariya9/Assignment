{
 "cells": [
  {
   "cell_type": "code",
   "execution_count": null,
   "id": "10c8c0a6",
   "metadata": {},
   "outputs": [],
   "source": [
    "#----------------------------------------------module-1------------------------------------------------------------------------#"
   ]
  },
  {
   "cell_type": "code",
   "execution_count": null,
   "id": "651cc5cd",
   "metadata": {},
   "outputs": [],
   "source": [
    "#What is Software?"
   ]
  },
  {
   "cell_type": "code",
   "execution_count": null,
   "id": "f605f062",
   "metadata": {},
   "outputs": [],
   "source": [
    "#What are the types of Applications? "
   ]
  },
  {
   "cell_type": "code",
   "execution_count": null,
   "id": "981d706e",
   "metadata": {},
   "outputs": [],
   "source": [
    "#What is programing? "
   ]
  },
  {
   "cell_type": "code",
   "execution_count": null,
   "id": "18f4e327",
   "metadata": {},
   "outputs": [],
   "source": [
    "#What is Python? "
   ]
  }
 ],
 "metadata": {
  "kernelspec": {
   "display_name": "Python 3 (ipykernel)",
   "language": "python",
   "name": "python3"
  },
  "language_info": {
   "codemirror_mode": {
    "name": "ipython",
    "version": 3
   },
   "file_extension": ".py",
   "mimetype": "text/x-python",
   "name": "python",
   "nbconvert_exporter": "python",
   "pygments_lexer": "ipython3",
   "version": "3.9.12"
  }
 },
 "nbformat": 4,
 "nbformat_minor": 5
}
